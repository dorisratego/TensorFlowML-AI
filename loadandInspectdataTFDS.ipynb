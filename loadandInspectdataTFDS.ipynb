{
  "nbformat": 4,
  "nbformat_minor": 0,
  "metadata": {
    "colab": {
      "name": "loadandInspectdataTFDS.ipynb",
      "provenance": [],
      "authorship_tag": "ABX9TyNgiSf4gF8EogI6J4YCu+oh",
      "include_colab_link": true
    },
    "kernelspec": {
      "name": "python3",
      "display_name": "Python 3"
    },
    "language_info": {
      "name": "python"
    }
  },
  "cells": [
    {
      "cell_type": "markdown",
      "metadata": {
        "id": "view-in-github",
        "colab_type": "text"
      },
      "source": [
        "<a href=\"https://colab.research.google.com/github/dorisratego/TensorFlowML-AI/blob/main/loadandInspectdataTFDS.ipynb\" target=\"_parent\"><img src=\"https://colab.research.google.com/assets/colab-badge.svg\" alt=\"Open In Colab\"/></a>"
      ]
    },
    {
      "cell_type": "code",
      "metadata": {
        "id": "9KtIZTXRqPqr"
      },
      "source": [
        "import tensorflow as tf\n",
        "import tensorflow_datasets as tfds\n",
        "mnist_data = tfds.load(\"fashion_mnist\")\n",
        "for item in mnist_data:\n",
        "  print(item)"
      ],
      "execution_count": null,
      "outputs": []
    },
    {
      "cell_type": "code",
      "metadata": {
        "id": "X4ATnyBtqVJM"
      },
      "source": [
        "#to load splits into a dataset containing the actual data, specify the split you want in the tfds.load command\n",
        "mnist_train = tfds.load(name=\"fashion_mnist\", split=\"train\")\n",
        "assert isinstance(mnist_train, tf.data.Dataset)\n",
        "print(type(mnist_train))"
      ],
      "execution_count": null,
      "outputs": []
    },
    {
      "cell_type": "code",
      "metadata": {
        "id": "1WHziwx3rImW"
      },
      "source": [
        "#iterate through to inspect the data\n",
        "for item in mnist_train.take(1):\n",
        "  print(type(item))\n",
        "  print(item.keys())"
      ],
      "execution_count": null,
      "outputs": []
    },
    {
      "cell_type": "code",
      "metadata": {
        "id": "xHHi_IUvrr6s"
      },
      "source": [
        "#to inspect a value in the dataset\n",
        "for item in mnist_train.take(1):\n",
        "  print(type(item))\n",
        "  print(item.keys())\n",
        "  print(item['image'])\n",
        "  print(item['label'])"
      ],
      "execution_count": null,
      "outputs": []
    },
    {
      "cell_type": "code",
      "metadata": {
        "id": "dwroTR8Ss71u"
      },
      "source": [
        "#Data about the dataset is also available using the with_info parameter \n",
        "mnist_test, info = tfds.load(name=\"fashion_mnist\", with_info=\"true\")\n",
        "print(info)"
      ],
      "execution_count": null,
      "outputs": []
    }
  ]
}