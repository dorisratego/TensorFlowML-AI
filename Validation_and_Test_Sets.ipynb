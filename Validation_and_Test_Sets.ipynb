{
  "nbformat": 4,
  "nbformat_minor": 0,
  "metadata": {
    "colab": {
      "name": "Validation and Test Sets.ipynb",
      "provenance": [],
      "authorship_tag": "ABX9TyOSZkz39BnGVx0qm83Bu2dd",
      "include_colab_link": true
    },
    "kernelspec": {
      "name": "python3",
      "display_name": "Python 3"
    },
    "language_info": {
      "name": "python"
    }
  },
  "cells": [
    {
      "cell_type": "markdown",
      "metadata": {
        "id": "view-in-github",
        "colab_type": "text"
      },
      "source": [
        "<a href=\"https://colab.research.google.com/github/dorisratego/TensorFlowML-AI/blob/main/Validation_and_Test_Sets.ipynb\" target=\"_parent\"><img src=\"https://colab.research.google.com/assets/colab-badge.svg\" alt=\"Open In Colab\"/></a>"
      ]
    },
    {
      "cell_type": "code",
      "metadata": {
        "id": "sTcCt0kanMgA"
      },
      "source": [
        "#@title Run on TensorFlow 2.x\n",
        "%tensorflow_version 2.x"
      ],
      "execution_count": 1,
      "outputs": []
    },
    {
      "cell_type": "code",
      "metadata": {
        "id": "WyIuJxT0nYHp"
      },
      "source": [
        "#@title Import modules\n",
        "import numpy as np\n",
        "import pandas as pd\n",
        "import tensorflow as tf\n",
        "from matplotlib import pyplot as plt\n",
        "\n",
        "pd.options.display.max_rows = 10\n",
        "pd.options.display.float_format = \"{:.1f}\".format"
      ],
      "execution_count": 2,
      "outputs": []
    },
    {
      "cell_type": "code",
      "metadata": {
        "id": "8tGCaTqQnm37"
      },
      "source": [
        "train_df = pd.read_csv(\"https://download.mlcc.google.com/mledu-datasets/california_housing_train.csv\")\n",
        "test_df = pd.read_csv(\"https://download.mlcc.google.com/mledu-datasets/california_housing_test.csv\")"
      ],
      "execution_count": 3,
      "outputs": []
    },
    {
      "cell_type": "code",
      "metadata": {
        "id": "YyDxMlT7nylQ"
      },
      "source": [
        "scale_factor = 1000.0\n",
        "\n",
        "# Scale the training set's label.\n",
        "train_df[\"median_house_value\"] /= scale_factor \n",
        "\n",
        "# Scale the test set's label\n",
        "test_df[\"median_house_value\"] /= scale_factor"
      ],
      "execution_count": 4,
      "outputs": []
    },
    {
      "cell_type": "code",
      "metadata": {
        "colab": {
          "base_uri": "https://localhost:8080/"
        },
        "id": "uQ_xhi47oUef",
        "outputId": "cc9ed037-fd2c-4722-96c6-5e9ba1dd652b"
      },
      "source": [
        "#@title Define the functions that build and train a model\n",
        "def build_model(my_learning_rate):\n",
        "  \"\"\"Create and compile a simple linear regression model.\"\"\"\n",
        "  # Most simple tf.keras models are sequential.\n",
        "  model = tf.keras.models.Sequential()\n",
        "\n",
        "  # Add one linear layer to the model to yield a simple linear regressor.\n",
        "  model.add(tf.keras.layers.Dense(units=1, input_shape=(1,)))\n",
        "\n",
        "  # Compile the model topography into code that TensorFlow can efficiently\n",
        "  # execute. Configure training to minimize the model's mean squared error. \n",
        "  model.compile(optimizer=tf.keras.optimizers.RMSprop(lr=my_learning_rate),\n",
        "                loss=\"mean_squared_error\",\n",
        "                metrics=[tf.keras.metrics.RootMeanSquaredError()])\n",
        "\n",
        "  return model               \n",
        "\n",
        "\n",
        "def train_model(model, df, feature, label, my_epochs, \n",
        "                my_batch_size=None, my_validation_split=0.1):\n",
        "  \"\"\"Feed a dataset into the model in order to train it.\"\"\"\n",
        "\n",
        "  history = model.fit(x=df[feature],\n",
        "                      y=df[label],\n",
        "                      batch_size=my_batch_size,\n",
        "                      epochs=my_epochs,\n",
        "                      validation_split=my_validation_split)\n",
        "\n",
        "  # Gather the model's trained weight and bias.\n",
        "  trained_weight = model.get_weights()[0]\n",
        "  trained_bias = model.get_weights()[1]\n",
        "\n",
        "  # The list of epochs is stored separately from the \n",
        "  # rest of history.\n",
        "  epochs = history.epoch\n",
        "  \n",
        "  # Isolate the root mean squared error for each epoch.\n",
        "  hist = pd.DataFrame(history.history)\n",
        "  rmse = hist[\"root_mean_squared_error\"]\n",
        "\n",
        "  return epochs, rmse, history.history   \n",
        "\n",
        "print(\"Defined the build_model and train_model functions.\")"
      ],
      "execution_count": 5,
      "outputs": [
        {
          "output_type": "stream",
          "text": [
            "Defined the build_model and train_model functions.\n"
          ],
          "name": "stdout"
        }
      ]
    },
    {
      "cell_type": "code",
      "metadata": {
        "colab": {
          "base_uri": "https://localhost:8080/"
        },
        "id": "zuWy7f_otRWY",
        "outputId": "6b6452d8-1c0f-4f7a-eb8f-ba84e16fd23a"
      },
      "source": [
        "#@title Define the plotting function\n",
        "\n",
        "def plot_the_loss_curve(epochs, mae_training, mae_validation):\n",
        "  \"\"\"Plot a curve of loss vs. epoch.\"\"\"\n",
        "\n",
        "  plt.figure()\n",
        "  plt.xlabel(\"Epoch\")\n",
        "  plt.ylabel(\"Root Mean Squared Error\")\n",
        "\n",
        "  plt.plot(epochs[1:], mae_training[1:], label=\"Training Loss\")\n",
        "  plt.plot(epochs[1:], mae_validation[1:], label=\"Validation Loss\")\n",
        "  plt.legend()\n",
        "  \n",
        "  # We're not going to plot the first epoch, since the loss on the first epoch\n",
        "  # is often substantially greater than the loss for other epochs.\n",
        "  merged_mae_lists = mae_training[1:] + mae_validation[1:]\n",
        "  highest_loss = max(merged_mae_lists)\n",
        "  lowest_loss = min(merged_mae_lists)\n",
        "  delta = highest_loss - lowest_loss\n",
        "  print(delta)\n",
        "\n",
        "  top_of_y_axis = highest_loss + (delta * 0.05)\n",
        "  bottom_of_y_axis = lowest_loss - (delta * 0.05)\n",
        "   \n",
        "  plt.ylim([bottom_of_y_axis, top_of_y_axis])\n",
        "  plt.show()  \n",
        "\n",
        "print(\"Defined the plot_the_loss_curve function.\")"
      ],
      "execution_count": 10,
      "outputs": [
        {
          "output_type": "stream",
          "text": [
            "Defined the plot_the_loss_curve function.\n"
          ],
          "name": "stdout"
        }
      ]
    },
    {
      "cell_type": "code",
      "metadata": {
        "colab": {
          "base_uri": "https://localhost:8080/",
          "height": 1000
        },
        "id": "Usgs8GyuuEqm",
        "outputId": "9fafa7f5-fa9b-449b-e12f-639e42747f07"
      },
      "source": [
        "# The following variables are the hyperparameters.\n",
        "learning_rate = 0.08\n",
        "epochs = 30\n",
        "batch_size = 100\n",
        "\n",
        "# Split the original training set into a reduced training set and a\n",
        "# validation set. \n",
        "validation_split=0.2\n",
        "\n",
        "# Identify the feature and the label.\n",
        "my_feature=\"median_income\"  # the median income on a specific city block.\n",
        "my_label=\"median_house_value\" # the median value of a house on a specific city block.\n",
        "# That is, you're going to create a model that predicts house value based \n",
        "# solely on the neighborhood's median income.  \n",
        "\n",
        "# Discard any pre-existing version of the model.\n",
        "my_model = None\n",
        "\n",
        "# Invoke the functions to build and train the model.\n",
        "my_model = build_model(learning_rate)\n",
        "epochs, rmse, history = train_model(my_model, train_df, my_feature, \n",
        "                                    my_label, epochs, batch_size, \n",
        "                                    validation_split)\n",
        "\n",
        "plot_the_loss_curve(epochs, history[\"root_mean_squared_error\"], \n",
        "                    history[\"val_root_mean_squared_error\"])"
      ],
      "execution_count": 12,
      "outputs": [
        {
          "output_type": "stream",
          "text": [
            "Epoch 1/30\n",
            "136/136 [==============================] - 1s 2ms/step - loss: 43186.9885 - root_mean_squared_error: 207.6692 - val_loss: 46377.3320 - val_root_mean_squared_error: 215.3540\n",
            "Epoch 2/30\n",
            "136/136 [==============================] - 0s 1ms/step - loss: 25474.4940 - root_mean_squared_error: 159.4341 - val_loss: 26920.3125 - val_root_mean_squared_error: 164.0741\n",
            "Epoch 3/30\n",
            "136/136 [==============================] - 0s 1ms/step - loss: 13658.5336 - root_mean_squared_error: 116.7165 - val_loss: 14568.3945 - val_root_mean_squared_error: 120.6996\n",
            "Epoch 4/30\n",
            "136/136 [==============================] - 0s 1ms/step - loss: 7717.3566 - root_mean_squared_error: 87.7750 - val_loss: 9459.9590 - val_root_mean_squared_error: 97.2623\n",
            "Epoch 5/30\n",
            "136/136 [==============================] - 0s 1ms/step - loss: 6318.9874 - root_mean_squared_error: 79.4823 - val_loss: 9216.9619 - val_root_mean_squared_error: 96.0050\n",
            "Epoch 6/30\n",
            "136/136 [==============================] - 0s 1ms/step - loss: 6390.4818 - root_mean_squared_error: 79.9250 - val_loss: 9095.6260 - val_root_mean_squared_error: 95.3710\n",
            "Epoch 7/30\n",
            "136/136 [==============================] - 0s 1ms/step - loss: 6427.7655 - root_mean_squared_error: 80.1542 - val_loss: 9285.8340 - val_root_mean_squared_error: 96.3630\n",
            "Epoch 8/30\n",
            "136/136 [==============================] - 0s 1ms/step - loss: 6404.1488 - root_mean_squared_error: 80.0112 - val_loss: 9443.7080 - val_root_mean_squared_error: 97.1787\n",
            "Epoch 9/30\n",
            "136/136 [==============================] - 0s 1ms/step - loss: 6720.8747 - root_mean_squared_error: 81.9669 - val_loss: 9326.8975 - val_root_mean_squared_error: 96.5759\n",
            "Epoch 10/30\n",
            "136/136 [==============================] - 0s 1ms/step - loss: 6577.3247 - root_mean_squared_error: 81.0649 - val_loss: 9197.8760 - val_root_mean_squared_error: 95.9056\n",
            "Epoch 11/30\n",
            "136/136 [==============================] - 0s 1ms/step - loss: 6467.3592 - root_mean_squared_error: 80.4115 - val_loss: 9335.8730 - val_root_mean_squared_error: 96.6223\n",
            "Epoch 12/30\n",
            "136/136 [==============================] - 0s 1ms/step - loss: 6456.6578 - root_mean_squared_error: 80.3421 - val_loss: 9298.5879 - val_root_mean_squared_error: 96.4292\n",
            "Epoch 13/30\n",
            "136/136 [==============================] - 0s 1ms/step - loss: 6466.2298 - root_mean_squared_error: 80.4021 - val_loss: 9191.4258 - val_root_mean_squared_error: 95.8719\n",
            "Epoch 14/30\n",
            "136/136 [==============================] - 0s 1ms/step - loss: 6541.5886 - root_mean_squared_error: 80.8732 - val_loss: 9342.3271 - val_root_mean_squared_error: 96.6557\n",
            "Epoch 15/30\n",
            "136/136 [==============================] - 0s 1ms/step - loss: 6637.4051 - root_mean_squared_error: 81.4359 - val_loss: 9192.6289 - val_root_mean_squared_error: 95.8782\n",
            "Epoch 16/30\n",
            "136/136 [==============================] - 0s 1ms/step - loss: 6791.8596 - root_mean_squared_error: 82.3905 - val_loss: 9310.4736 - val_root_mean_squared_error: 96.4908\n",
            "Epoch 17/30\n",
            "136/136 [==============================] - 0s 1ms/step - loss: 6436.8241 - root_mean_squared_error: 80.2255 - val_loss: 9324.7578 - val_root_mean_squared_error: 96.5648\n",
            "Epoch 18/30\n",
            "136/136 [==============================] - 0s 1ms/step - loss: 6530.4234 - root_mean_squared_error: 80.8073 - val_loss: 9279.4678 - val_root_mean_squared_error: 96.3300\n",
            "Epoch 19/30\n",
            "136/136 [==============================] - 0s 1ms/step - loss: 6489.8405 - root_mean_squared_error: 80.5491 - val_loss: 9251.2139 - val_root_mean_squared_error: 96.1832\n",
            "Epoch 20/30\n",
            "136/136 [==============================] - 0s 1ms/step - loss: 6452.4975 - root_mean_squared_error: 80.3169 - val_loss: 9126.4014 - val_root_mean_squared_error: 95.5322\n",
            "Epoch 21/30\n",
            "136/136 [==============================] - 0s 1ms/step - loss: 6620.9285 - root_mean_squared_error: 81.3523 - val_loss: 9360.5703 - val_root_mean_squared_error: 96.7500\n",
            "Epoch 22/30\n",
            "136/136 [==============================] - 0s 1ms/step - loss: 6608.0744 - root_mean_squared_error: 81.2775 - val_loss: 9490.9170 - val_root_mean_squared_error: 97.4213\n",
            "Epoch 23/30\n",
            "136/136 [==============================] - 0s 1ms/step - loss: 6338.0803 - root_mean_squared_error: 79.5963 - val_loss: 9328.5420 - val_root_mean_squared_error: 96.5844\n",
            "Epoch 24/30\n",
            "136/136 [==============================] - 0s 1ms/step - loss: 6625.7887 - root_mean_squared_error: 81.3923 - val_loss: 9248.2539 - val_root_mean_squared_error: 96.1678\n",
            "Epoch 25/30\n",
            "136/136 [==============================] - 0s 1ms/step - loss: 6490.0730 - root_mean_squared_error: 80.5535 - val_loss: 9287.5449 - val_root_mean_squared_error: 96.3719\n",
            "Epoch 26/30\n",
            "136/136 [==============================] - 0s 1ms/step - loss: 6544.4431 - root_mean_squared_error: 80.8797 - val_loss: 9186.5186 - val_root_mean_squared_error: 95.8463\n",
            "Epoch 27/30\n",
            "136/136 [==============================] - 0s 1ms/step - loss: 6373.2563 - root_mean_squared_error: 79.8253 - val_loss: 9158.3506 - val_root_mean_squared_error: 95.6993\n",
            "Epoch 28/30\n",
            "136/136 [==============================] - 0s 1ms/step - loss: 6464.1470 - root_mean_squared_error: 80.3782 - val_loss: 9266.9463 - val_root_mean_squared_error: 96.2650\n",
            "Epoch 29/30\n",
            "136/136 [==============================] - 0s 1ms/step - loss: 6596.3889 - root_mean_squared_error: 81.2143 - val_loss: 9289.6182 - val_root_mean_squared_error: 96.3827\n",
            "Epoch 30/30\n",
            "136/136 [==============================] - 0s 1ms/step - loss: 6780.3640 - root_mean_squared_error: 82.3208 - val_loss: 9433.8008 - val_root_mean_squared_error: 97.1278\n",
            "83.3837661743164\n"
          ],
          "name": "stdout"
        },
        {
          "output_type": "display_data",
          "data": {
            "image/png": "[encoded data removed]",
            "text/plain": [
              "<Figure size 432x288 with 1 Axes>"
            ]
          },
          "metadata": {
            "tags": [],
            "needs_background": "light"
          }
        }
      ]
    },
    {
      "cell_type": "code",
      "metadata": {
        "colab": {
          "base_uri": "https://localhost:8080/",
          "height": 1000
        },
        "id": "jGteJ5uMsheU",
        "outputId": "7b06c237-af6b-484b-8722-4f9627489bc4"
      },
      "source": [
        "#@title Double-click to view the complete implementation.\n",
        "\n",
        "# The following variables are the hyperparameters.\n",
        "learning_rate = 0.08\n",
        "epochs = 70\n",
        "batch_size = 100\n",
        "\n",
        "# Split the original training set into a reduced training set and a\n",
        "# validation set. \n",
        "validation_split=0.2\n",
        "\n",
        "# Identify the feature and the label.\n",
        "my_feature=\"median_income\"  # the median income on a specific city block.\n",
        "my_label=\"median_house_value\" # the median value of a house on a specific city block.\n",
        "# That is, you're going to create a model that predicts house value based \n",
        "# solely on the neighborhood's median income.  \n",
        "\n",
        "# Discard any pre-existing version of the model.\n",
        "my_model = None\n",
        "\n",
        "# Shuffle the examples.\n",
        "shuffled_train_df = train_df.reindex(np.random.permutation(train_df.index)) \n",
        "\n",
        "# Invoke the functions to build and train the model. Train on the shuffled\n",
        "# training set.\n",
        "my_model = build_model(learning_rate)\n",
        "epochs, rmse, history = train_model(my_model, shuffled_train_df, my_feature, \n",
        "                                    my_label, epochs, batch_size, \n",
        "                                    validation_split)\n",
        "\n",
        "plot_the_loss_curve(epochs, history[\"root_mean_squared_error\"], \n",
        "                    history[\"val_root_mean_squared_error\"])"
      ],
      "execution_count": 11,
      "outputs": [
        {
          "output_type": "stream",
          "text": [
            "Epoch 1/70\n",
            "136/136 [==============================] - 1s 4ms/step - loss: 52216.8217 - root_mean_squared_error: 228.3535 - val_loss: 35883.5352 - val_root_mean_squared_error: 189.4295\n",
            "Epoch 2/70\n",
            "136/136 [==============================] - 0s 1ms/step - loss: 30641.3910 - root_mean_squared_error: 174.9520 - val_loss: 20155.1133 - val_root_mean_squared_error: 141.9687\n",
            "Epoch 3/70\n",
            "136/136 [==============================] - 0s 1ms/step - loss: 16920.9053 - root_mean_squared_error: 129.9690 - val_loss: 10696.7178 - val_root_mean_squared_error: 103.4249\n",
            "Epoch 4/70\n",
            "136/136 [==============================] - 0s 1ms/step - loss: 9084.0006 - root_mean_squared_error: 95.2484 - val_loss: 7164.0747 - val_root_mean_squared_error: 84.6409\n",
            "Epoch 5/70\n",
            "136/136 [==============================] - 0s 1ms/step - loss: 7088.2621 - root_mean_squared_error: 84.1844 - val_loss: 7031.7393 - val_root_mean_squared_error: 83.8555\n",
            "Epoch 6/70\n",
            "136/136 [==============================] - 0s 1ms/step - loss: 7013.7788 - root_mean_squared_error: 83.7390 - val_loss: 7031.5996 - val_root_mean_squared_error: 83.8546\n",
            "Epoch 7/70\n",
            "136/136 [==============================] - 0s 1ms/step - loss: 6953.7578 - root_mean_squared_error: 83.3817 - val_loss: 7030.8184 - val_root_mean_squared_error: 83.8500\n",
            "Epoch 8/70\n",
            "136/136 [==============================] - 0s 2ms/step - loss: 7176.0655 - root_mean_squared_error: 84.6806 - val_loss: 7031.0601 - val_root_mean_squared_error: 83.8514\n",
            "Epoch 9/70\n",
            "136/136 [==============================] - 0s 1ms/step - loss: 7007.8621 - root_mean_squared_error: 83.7057 - val_loss: 7035.6157 - val_root_mean_squared_error: 83.8786\n",
            "Epoch 10/70\n",
            "136/136 [==============================] - 0s 1ms/step - loss: 7047.3193 - root_mean_squared_error: 83.9425 - val_loss: 7030.4702 - val_root_mean_squared_error: 83.8479\n",
            "Epoch 11/70\n",
            "136/136 [==============================] - 0s 1ms/step - loss: 7063.3744 - root_mean_squared_error: 84.0410 - val_loss: 7030.6475 - val_root_mean_squared_error: 83.8490\n",
            "Epoch 12/70\n",
            "136/136 [==============================] - 0s 1ms/step - loss: 6954.2413 - root_mean_squared_error: 83.3807 - val_loss: 7031.5581 - val_root_mean_squared_error: 83.8544\n",
            "Epoch 13/70\n",
            "136/136 [==============================] - 0s 1ms/step - loss: 6920.6433 - root_mean_squared_error: 83.1745 - val_loss: 7035.1934 - val_root_mean_squared_error: 83.8761\n",
            "Epoch 14/70\n",
            "136/136 [==============================] - 0s 1ms/step - loss: 7121.5134 - root_mean_squared_error: 84.3856 - val_loss: 7032.2261 - val_root_mean_squared_error: 83.8584\n",
            "Epoch 15/70\n",
            "136/136 [==============================] - 0s 1ms/step - loss: 6889.5954 - root_mean_squared_error: 82.9938 - val_loss: 7030.9980 - val_root_mean_squared_error: 83.8510\n",
            "Epoch 16/70\n",
            "136/136 [==============================] - 0s 1ms/step - loss: 7059.6576 - root_mean_squared_error: 84.0145 - val_loss: 7031.4868 - val_root_mean_squared_error: 83.8540\n",
            "Epoch 17/70\n",
            "136/136 [==============================] - 0s 1ms/step - loss: 7108.3129 - root_mean_squared_error: 84.2971 - val_loss: 7032.3516 - val_root_mean_squared_error: 83.8591\n",
            "Epoch 18/70\n",
            "136/136 [==============================] - 0s 1ms/step - loss: 7049.7702 - root_mean_squared_error: 83.9565 - val_loss: 7035.5400 - val_root_mean_squared_error: 83.8781\n",
            "Epoch 19/70\n",
            "136/136 [==============================] - 0s 1ms/step - loss: 7027.4540 - root_mean_squared_error: 83.8257 - val_loss: 7031.5879 - val_root_mean_squared_error: 83.8546\n",
            "Epoch 20/70\n",
            "136/136 [==============================] - 0s 1ms/step - loss: 7163.6799 - root_mean_squared_error: 84.6350 - val_loss: 7030.5181 - val_root_mean_squared_error: 83.8482\n",
            "Epoch 21/70\n",
            "136/136 [==============================] - 0s 1ms/step - loss: 6990.2202 - root_mean_squared_error: 83.6050 - val_loss: 7031.3564 - val_root_mean_squared_error: 83.8532\n",
            "Epoch 22/70\n",
            "136/136 [==============================] - 0s 1ms/step - loss: 6997.9378 - root_mean_squared_error: 83.6475 - val_loss: 7038.1865 - val_root_mean_squared_error: 83.8939\n",
            "Epoch 23/70\n",
            "136/136 [==============================] - 0s 1ms/step - loss: 7135.4950 - root_mean_squared_error: 84.4600 - val_loss: 7034.3384 - val_root_mean_squared_error: 83.8710\n",
            "Epoch 24/70\n",
            "136/136 [==============================] - 0s 1ms/step - loss: 6948.8357 - root_mean_squared_error: 83.3500 - val_loss: 7030.6128 - val_root_mean_squared_error: 83.8487\n",
            "Epoch 25/70\n",
            "136/136 [==============================] - 0s 1ms/step - loss: 6771.1485 - root_mean_squared_error: 82.2386 - val_loss: 7033.8071 - val_root_mean_squared_error: 83.8678\n",
            "Epoch 26/70\n",
            "136/136 [==============================] - 0s 1ms/step - loss: 7233.8615 - root_mean_squared_error: 85.0458 - val_loss: 7030.7510 - val_root_mean_squared_error: 83.8496\n",
            "Epoch 27/70\n",
            "136/136 [==============================] - 0s 1ms/step - loss: 7146.8383 - root_mean_squared_error: 84.5149 - val_loss: 7030.4570 - val_root_mean_squared_error: 83.8478\n",
            "Epoch 28/70\n",
            "136/136 [==============================] - 0s 1ms/step - loss: 6963.4668 - root_mean_squared_error: 83.4401 - val_loss: 7035.1646 - val_root_mean_squared_error: 83.8759\n",
            "Epoch 29/70\n",
            "136/136 [==============================] - 0s 1ms/step - loss: 6756.9327 - root_mean_squared_error: 82.1948 - val_loss: 7030.8218 - val_root_mean_squared_error: 83.8500\n",
            "Epoch 30/70\n",
            "136/136 [==============================] - 0s 1ms/step - loss: 7041.7619 - root_mean_squared_error: 83.9043 - val_loss: 7032.3472 - val_root_mean_squared_error: 83.8591\n",
            "Epoch 31/70\n",
            "136/136 [==============================] - 0s 1ms/step - loss: 7041.4635 - root_mean_squared_error: 83.9064 - val_loss: 7030.5400 - val_root_mean_squared_error: 83.8483\n",
            "Epoch 32/70\n",
            "136/136 [==============================] - 0s 1ms/step - loss: 6951.2696 - root_mean_squared_error: 83.3678 - val_loss: 7033.4731 - val_root_mean_squared_error: 83.8658\n",
            "Epoch 33/70\n",
            "136/136 [==============================] - 0s 1ms/step - loss: 7035.3384 - root_mean_squared_error: 83.8719 - val_loss: 7030.4922 - val_root_mean_squared_error: 83.8480\n",
            "Epoch 34/70\n",
            "136/136 [==============================] - 0s 1ms/step - loss: 7227.1334 - root_mean_squared_error: 84.9990 - val_loss: 7030.4766 - val_root_mean_squared_error: 83.8479\n",
            "Epoch 35/70\n",
            "136/136 [==============================] - 0s 1ms/step - loss: 7120.2210 - root_mean_squared_error: 84.3769 - val_loss: 7031.5801 - val_root_mean_squared_error: 83.8545\n",
            "Epoch 36/70\n",
            "136/136 [==============================] - 0s 1ms/step - loss: 6856.3247 - root_mean_squared_error: 82.7905 - val_loss: 7031.3687 - val_root_mean_squared_error: 83.8533\n",
            "Epoch 37/70\n",
            "136/136 [==============================] - 0s 1ms/step - loss: 7022.5958 - root_mean_squared_error: 83.7964 - val_loss: 7031.7925 - val_root_mean_squared_error: 83.8558\n",
            "Epoch 38/70\n",
            "136/136 [==============================] - 0s 1ms/step - loss: 6956.8277 - root_mean_squared_error: 83.3861 - val_loss: 7032.2466 - val_root_mean_squared_error: 83.8585\n",
            "Epoch 39/70\n",
            "136/136 [==============================] - 0s 1ms/step - loss: 7174.2554 - root_mean_squared_error: 84.6877 - val_loss: 7031.2798 - val_root_mean_squared_error: 83.8527\n",
            "Epoch 40/70\n",
            "136/136 [==============================] - 0s 1ms/step - loss: 7027.6403 - root_mean_squared_error: 83.8274 - val_loss: 7030.4712 - val_root_mean_squared_error: 83.8479\n",
            "Epoch 41/70\n",
            "136/136 [==============================] - 0s 1ms/step - loss: 7117.4268 - root_mean_squared_error: 84.3491 - val_loss: 7030.5034 - val_root_mean_squared_error: 83.8481\n",
            "Epoch 42/70\n",
            "136/136 [==============================] - 0s 1ms/step - loss: 6758.8504 - root_mean_squared_error: 82.1989 - val_loss: 7030.5312 - val_root_mean_squared_error: 83.8483\n",
            "Epoch 43/70\n",
            "136/136 [==============================] - 0s 1ms/step - loss: 7074.2682 - root_mean_squared_error: 84.0995 - val_loss: 7030.9976 - val_root_mean_squared_error: 83.8510\n",
            "Epoch 44/70\n",
            "136/136 [==============================] - 0s 1ms/step - loss: 7011.9249 - root_mean_squared_error: 83.7278 - val_loss: 7035.8789 - val_root_mean_squared_error: 83.8801\n",
            "Epoch 45/70\n",
            "136/136 [==============================] - 0s 1ms/step - loss: 7037.0357 - root_mean_squared_error: 83.8858 - val_loss: 7034.9712 - val_root_mean_squared_error: 83.8747\n",
            "Epoch 46/70\n",
            "136/136 [==============================] - 0s 1ms/step - loss: 6754.3517 - root_mean_squared_error: 82.1365 - val_loss: 7030.5664 - val_root_mean_squared_error: 83.8485\n",
            "Epoch 47/70\n",
            "136/136 [==============================] - 0s 1ms/step - loss: 6857.3796 - root_mean_squared_error: 82.7935 - val_loss: 7031.2051 - val_root_mean_squared_error: 83.8523\n",
            "Epoch 48/70\n",
            "136/136 [==============================] - 0s 1ms/step - loss: 7023.1388 - root_mean_squared_error: 83.7853 - val_loss: 7031.4458 - val_root_mean_squared_error: 83.8537\n",
            "Epoch 49/70\n",
            "136/136 [==============================] - 0s 1ms/step - loss: 6770.4919 - root_mean_squared_error: 82.2777 - val_loss: 7033.1812 - val_root_mean_squared_error: 83.8641\n",
            "Epoch 50/70\n",
            "136/136 [==============================] - 0s 1ms/step - loss: 7003.9674 - root_mean_squared_error: 83.6852 - val_loss: 7031.1147 - val_root_mean_squared_error: 83.8517\n",
            "Epoch 51/70\n",
            "136/136 [==============================] - 0s 1ms/step - loss: 7047.1948 - root_mean_squared_error: 83.9445 - val_loss: 7030.5449 - val_root_mean_squared_error: 83.8483\n",
            "Epoch 52/70\n",
            "136/136 [==============================] - 0s 1ms/step - loss: 7243.4467 - root_mean_squared_error: 85.0383 - val_loss: 7030.5488 - val_root_mean_squared_error: 83.8484\n",
            "Epoch 53/70\n",
            "136/136 [==============================] - 0s 2ms/step - loss: 6972.5386 - root_mean_squared_error: 83.4932 - val_loss: 7036.6528 - val_root_mean_squared_error: 83.8848\n",
            "Epoch 54/70\n",
            "136/136 [==============================] - 0s 1ms/step - loss: 6901.5880 - root_mean_squared_error: 83.0489 - val_loss: 7035.6240 - val_root_mean_squared_error: 83.8786\n",
            "Epoch 55/70\n",
            "136/136 [==============================] - 0s 1ms/step - loss: 7061.1272 - root_mean_squared_error: 84.0270 - val_loss: 7033.1445 - val_root_mean_squared_error: 83.8638\n",
            "Epoch 56/70\n",
            "136/136 [==============================] - 0s 1ms/step - loss: 7163.3401 - root_mean_squared_error: 84.6249 - val_loss: 7030.5146 - val_root_mean_squared_error: 83.8482\n",
            "Epoch 57/70\n",
            "136/136 [==============================] - 0s 1ms/step - loss: 7050.4061 - root_mean_squared_error: 83.9588 - val_loss: 7032.2646 - val_root_mean_squared_error: 83.8586\n",
            "Epoch 58/70\n",
            "136/136 [==============================] - 0s 1ms/step - loss: 6923.9973 - root_mean_squared_error: 83.2032 - val_loss: 7030.4976 - val_root_mean_squared_error: 83.8481\n",
            "Epoch 59/70\n",
            "136/136 [==============================] - 0s 1ms/step - loss: 6933.9403 - root_mean_squared_error: 83.2643 - val_loss: 7031.0049 - val_root_mean_squared_error: 83.8511\n",
            "Epoch 60/70\n",
            "136/136 [==============================] - 0s 1ms/step - loss: 7138.2995 - root_mean_squared_error: 84.4829 - val_loss: 7034.4976 - val_root_mean_squared_error: 83.8719\n",
            "Epoch 61/70\n",
            "136/136 [==============================] - 0s 1ms/step - loss: 7015.3159 - root_mean_squared_error: 83.7546 - val_loss: 7032.6953 - val_root_mean_squared_error: 83.8612\n",
            "Epoch 62/70\n",
            "136/136 [==============================] - 0s 1ms/step - loss: 7208.4981 - root_mean_squared_error: 84.8840 - val_loss: 7031.8647 - val_root_mean_squared_error: 83.8562\n",
            "Epoch 63/70\n",
            "136/136 [==============================] - 0s 1ms/step - loss: 7037.0999 - root_mean_squared_error: 83.8756 - val_loss: 7037.0679 - val_root_mean_squared_error: 83.8872\n",
            "Epoch 64/70\n",
            "136/136 [==============================] - 0s 1ms/step - loss: 6810.3125 - root_mean_squared_error: 82.4977 - val_loss: 7031.6113 - val_root_mean_squared_error: 83.8547\n",
            "Epoch 65/70\n",
            "136/136 [==============================] - 0s 1ms/step - loss: 7060.7992 - root_mean_squared_error: 84.0119 - val_loss: 7033.7134 - val_root_mean_squared_error: 83.8672\n",
            "Epoch 66/70\n",
            "136/136 [==============================] - 0s 1ms/step - loss: 7107.1243 - root_mean_squared_error: 84.2973 - val_loss: 7030.5718 - val_root_mean_squared_error: 83.8485\n",
            "Epoch 67/70\n",
            "136/136 [==============================] - 0s 1ms/step - loss: 7048.1023 - root_mean_squared_error: 83.9408 - val_loss: 7031.0537 - val_root_mean_squared_error: 83.8514\n",
            "Epoch 68/70\n",
            "136/136 [==============================] - 0s 1ms/step - loss: 7028.9352 - root_mean_squared_error: 83.8333 - val_loss: 7037.5679 - val_root_mean_squared_error: 83.8902\n",
            "Epoch 69/70\n",
            "136/136 [==============================] - 0s 1ms/step - loss: 7034.8289 - root_mean_squared_error: 83.8691 - val_loss: 7030.6226 - val_root_mean_squared_error: 83.8488\n",
            "Epoch 70/70\n",
            "136/136 [==============================] - 0s 1ms/step - loss: 7169.5827 - root_mean_squared_error: 84.6637 - val_loss: 7030.5229 - val_root_mean_squared_error: 83.8482\n",
            "81.39788818359375\n"
          ],
          "name": "stdout"
        },
        {
          "output_type": "display_data",
          "data": {
            "image/png": "[encoded data removed]",
            "text/plain": [
              "<Figure size 432x288 with 1 Axes>"
            ]
          },
          "metadata": {
            "tags": [],
            "needs_background": "light"
          }
        }
      ]
    }
  ]
}