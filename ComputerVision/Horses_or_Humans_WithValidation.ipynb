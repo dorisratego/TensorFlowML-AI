{
  "nbformat": 4,
  "nbformat_minor": 0,
  "metadata": {
    "colab": {
      "name": "Horses_or_Humans_WithValidation.ipynb",
      "provenance": [],
      "authorship_tag": "ABX9TyMYtrpmzoLryWBNEkXeMQFe",
      "include_colab_link": true
    },
    "kernelspec": {
      "name": "python3",
      "display_name": "Python 3"
    }
  },
  "cells": [
    {
      "cell_type": "markdown",
      "metadata": {
        "id": "view-in-github",
        "colab_type": "text"
      },
      "source": [
        "<a href=\"https://colab.research.google.com/github/dorisratego/TensorFlowML-AI/blob/main/Horses_or_Humans_WithValidation.ipynb\" target=\"_parent\"><img src=\"https://colab.research.google.com/assets/colab-badge.svg\" alt=\"Open In Colab\"/></a>"
      ]
    },
    {
      "cell_type": "code",
      "metadata": {
        "id": "LaH5CFaVYyrq"
      },
      "source": [
        "import tensorflow as tf"
      ],
      "execution_count": 16,
      "outputs": []
    },
    {
      "cell_type": "code",
      "metadata": {
        "id": "x-cM6W2lO5tx"
      },
      "source": [
        "import urllib.request"
      ],
      "execution_count": 1,
      "outputs": []
    },
    {
      "cell_type": "code",
      "metadata": {
        "id": "HmWWZOyrQWaw"
      },
      "source": [
        "import zipfile"
      ],
      "execution_count": 2,
      "outputs": []
    },
    {
      "cell_type": "code",
      "metadata": {
        "id": "VPtKt5-iQYZI"
      },
      "source": [
        "url = \"https://storage.googleapis.com/laurencemoroney-blog.appspot.com/horse-or-human.zip\""
      ],
      "execution_count": 4,
      "outputs": []
    },
    {
      "cell_type": "code",
      "metadata": {
        "id": "H2iDvRKCQmPI"
      },
      "source": [
        "file_name = \"horse-or-human.zip\""
      ],
      "execution_count": 5,
      "outputs": []
    },
    {
      "cell_type": "code",
      "metadata": {
        "id": "J-cMbcegQrT9"
      },
      "source": [
        "training_dir = 'horse-or-human/training/'"
      ],
      "execution_count": 6,
      "outputs": []
    },
    {
      "cell_type": "code",
      "metadata": {
        "colab": {
          "base_uri": "https://localhost:8080/"
        },
        "id": "E0JCMac-QwoB",
        "outputId": "af639d54-d721-4d8c-b587-9e9337043433"
      },
      "source": [
        "urllib.request.urlretrieve(url, file_name)"
      ],
      "execution_count": 8,
      "outputs": [
        {
          "output_type": "execute_result",
          "data": {
            "text/plain": [
              "('horse-or-human.zip', <http.client.HTTPMessage at 0x7fe40ff9c860>)"
            ]
          },
          "metadata": {
            "tags": []
          },
          "execution_count": 8
        }
      ]
    },
    {
      "cell_type": "code",
      "metadata": {
        "id": "i_CkVwX5Q2Ho"
      },
      "source": [
        "zip_ref = zipfile.ZipFile(file_name, 'r')"
      ],
      "execution_count": 9,
      "outputs": []
    },
    {
      "cell_type": "code",
      "metadata": {
        "id": "DtucGPD5Q6DI"
      },
      "source": [
        "zip_ref.extractall(training_dir)"
      ],
      "execution_count": 10,
      "outputs": []
    },
    {
      "cell_type": "code",
      "metadata": {
        "id": "IGktI7T5Q-41"
      },
      "source": [
        "zip_ref.close()"
      ],
      "execution_count": 11,
      "outputs": []
    },
    {
      "cell_type": "code",
      "metadata": {
        "id": "b4fKiljERvdm"
      },
      "source": [
        "from tensorflow.keras.preprocessing.image import ImageDataGenerator #Use Keras imageDataGenerator to to automatically assign labels to images"
      ],
      "execution_count": 12,
      "outputs": []
    },
    {
      "cell_type": "code",
      "metadata": {
        "id": "kMXKNBZ-Tubj"
      },
      "source": [
        "# All images will be rescaled by 1./255\n",
        "train_datagen = ImageDataGenerator(rescale=1/255)"
      ],
      "execution_count": 13,
      "outputs": []
    },
    {
      "cell_type": "code",
      "metadata": {
        "colab": {
          "base_uri": "https://localhost:8080/"
        },
        "id": "Ue86_8UQT4qp",
        "outputId": "30550b96-4a79-4866-cea9-4aee3f6277d7"
      },
      "source": [
        "train_generator = train_datagen.flow_from_directory(\n",
        "      training_dir,\n",
        "      target_size=(300, 300),\n",
        "      class_mode='binary'\n",
        "      )"
      ],
      "execution_count": 14,
      "outputs": [
        {
          "output_type": "stream",
          "text": [
            "Found 1027 images belonging to 2 classes.\n"
          ],
          "name": "stdout"
        }
      ]
    },
    {
      "cell_type": "code",
      "metadata": {
        "id": "9X3tuo8PUvdF"
      },
      "source": [
        "#CNN architecture\n",
        "model = tf.keras.models.Sequential([\n",
        "                                    tf.keras.layers.Conv2D(16, (3,3), activation='relu' ,\n",
        "                                                           input_shape=(300, 300, 3)),\n",
        "                                      tf.keras.layers.MaxPooling2D(2, 2),\n",
        "                                      tf.keras.layers.Conv2D(32, (3,3), activation='relu'),\n",
        "                                      tf.keras.layers.MaxPooling2D(2,2),\n",
        "                                      tf.keras.layers.Conv2D(64, (3,3), activation='relu'),\n",
        "                                      tf.keras.layers.MaxPooling2D(2,2),\n",
        "                                      tf.keras.layers.Conv2D(64, (3,3), activation='relu'),\n",
        "                                      tf.keras.layers.MaxPooling2D(2,2),\n",
        "                                      tf.keras.layers.Conv2D(64, (3,3), activation='relu'),\n",
        "                                      tf.keras.layers.MaxPooling2D(2,2),\n",
        "                                      tf.keras.layers.Flatten(),\n",
        "                                      tf.keras.layers.Dense(512, activation='relu'),\n",
        "                                      tf.keras.layers.Dense(1, activation='sigmoid')\n",
        "                                    ])"
      ],
      "execution_count": 17,
      "outputs": []
    },
    {
      "cell_type": "code",
      "metadata": {
        "id": "fr1dob6qWvNU"
      },
      "source": [
        "model.compile(loss='binary_crossentropy',\n",
        "        optimizer=tf.keras.optimizers.RMSprop(lr=0.001),\n",
        "        metrics=['accuracy'])"
      ],
      "execution_count": 22,
      "outputs": []
    },
    {
      "cell_type": "code",
      "metadata": {
        "colab": {
          "base_uri": "https://localhost:8080/"
        },
        "id": "RDShftH3W-w2",
        "outputId": "2b7e1a70-36ce-49d2-d284-61f6bb44aeff"
      },
      "source": [
        "history = model.fit_generator(\n",
        "  train_generator,\n",
        "  epochs=15\n",
        ")"
      ],
      "execution_count": 23,
      "outputs": [
        {
          "output_type": "stream",
          "text": [
            "/usr/local/lib/python3.6/dist-packages/tensorflow/python/keras/engine/training.py:1844: UserWarning: `Model.fit_generator` is deprecated and will be removed in a future version. Please use `Model.fit`, which supports generators.\n",
            "  warnings.warn('`Model.fit_generator` is deprecated and '\n"
          ],
          "name": "stderr"
        },
        {
          "output_type": "stream",
          "text": [
            "Epoch 1/15\n",
            "33/33 [==============================] - 86s 3s/step - loss: 0.9275 - accuracy: 0.6441\n",
            "Epoch 2/15\n",
            "33/33 [==============================] - 84s 3s/step - loss: 0.2823 - accuracy: 0.8976\n",
            "Epoch 3/15\n",
            "33/33 [==============================] - 84s 3s/step - loss: 0.1854 - accuracy: 0.9266\n",
            "Epoch 4/15\n",
            "33/33 [==============================] - 85s 3s/step - loss: 0.1203 - accuracy: 0.9613\n",
            "Epoch 5/15\n",
            "33/33 [==============================] - 84s 3s/step - loss: 0.1164 - accuracy: 0.9646\n",
            "Epoch 6/15\n",
            "33/33 [==============================] - 84s 3s/step - loss: 0.0655 - accuracy: 0.9865\n",
            "Epoch 7/15\n",
            "33/33 [==============================] - 84s 3s/step - loss: 0.0061 - accuracy: 0.9996\n",
            "Epoch 8/15\n",
            "33/33 [==============================] - 84s 3s/step - loss: 0.0519 - accuracy: 0.9923\n",
            "Epoch 9/15\n",
            "33/33 [==============================] - 84s 3s/step - loss: 0.0193 - accuracy: 0.9913\n",
            "Epoch 10/15\n",
            "33/33 [==============================] - 84s 3s/step - loss: 3.3763e-04 - accuracy: 1.0000\n",
            "Epoch 11/15\n",
            "33/33 [==============================] - 85s 3s/step - loss: 4.4527e-05 - accuracy: 1.0000\n",
            "Epoch 12/15\n",
            "33/33 [==============================] - 84s 3s/step - loss: 0.0483 - accuracy: 0.9961\n",
            "Epoch 13/15\n",
            "33/33 [==============================] - 84s 3s/step - loss: 0.0043 - accuracy: 0.9971\n",
            "Epoch 14/15\n",
            "33/33 [==============================] - 85s 3s/step - loss: 2.1690e-04 - accuracy: 1.0000\n",
            "Epoch 15/15\n",
            "33/33 [==============================] - 84s 3s/step - loss: 3.6480e-05 - accuracy: 1.0000\n"
          ],
          "name": "stdout"
        }
      ]
    },
    {
      "cell_type": "code",
      "metadata": {
        "id": "iWwP8_OdYRzh"
      },
      "source": [
        "validation_url = \"https://storage.googleapis.com/laurencemoroney-blog.appspot.com/validation-horse-or-human.zip\""
      ],
      "execution_count": 25,
      "outputs": []
    },
    {
      "cell_type": "code",
      "metadata": {
        "id": "bq-985mXYXfl"
      },
      "source": [
        "validation_file_name = \"validation-horse-or-human.zip\""
      ],
      "execution_count": 26,
      "outputs": []
    },
    {
      "cell_type": "code",
      "metadata": {
        "id": "BEKzSVhrYdaM"
      },
      "source": [
        "validation_dir = 'horse-or-human/validation/'"
      ],
      "execution_count": 27,
      "outputs": []
    },
    {
      "cell_type": "code",
      "metadata": {
        "colab": {
          "base_uri": "https://localhost:8080/"
        },
        "id": "d3NmF4ttYl_z",
        "outputId": "c0120a23-bc0a-4280-d499-90f6239b641d"
      },
      "source": [
        "urllib.request.urlretrieve(validation_url, validation_file_name)"
      ],
      "execution_count": 28,
      "outputs": [
        {
          "output_type": "execute_result",
          "data": {
            "text/plain": [
              "('validation-horse-or-human.zip', <http.client.HTTPMessage at 0x7fe3cfdc2d30>)"
            ]
          },
          "metadata": {
            "tags": []
          },
          "execution_count": 28
        }
      ]
    },
    {
      "cell_type": "code",
      "metadata": {
        "id": "YztYKjgjZi_E"
      },
      "source": [
        "zip_ref = zipfile.ZipFile(validation_file_name, 'r')"
      ],
      "execution_count": 29,
      "outputs": []
    },
    {
      "cell_type": "code",
      "metadata": {
        "id": "L22YNkqlZpYB"
      },
      "source": [
        "zip_ref.extractall(validation_dir)"
      ],
      "execution_count": 31,
      "outputs": []
    },
    {
      "cell_type": "code",
      "metadata": {
        "id": "JEZglcrMZzzJ"
      },
      "source": [
        "zip_ref.close()"
      ],
      "execution_count": 32,
      "outputs": []
    },
    {
      "cell_type": "code",
      "metadata": {
        "id": "rYgiiQMYZ5v4"
      },
      "source": [
        "#set up another ImageDataGenerator to manage these images\n",
        "validation_datagen = ImageDataGenerator(rescale=1/255)"
      ],
      "execution_count": 33,
      "outputs": []
    },
    {
      "cell_type": "code",
      "metadata": {
        "colab": {
          "base_uri": "https://localhost:8080/"
        },
        "id": "EbB3yOeYb0Ho",
        "outputId": "430dde71-e704-44c9-9b59-e9616a5dac11"
      },
      "source": [
        "validation_generator = train_datagen.flow_from_directory(\n",
        "  validation_dir,\n",
        "  target_size=(300, 300),\n",
        "  class_mode='binary'\n",
        ")"
      ],
      "execution_count": 34,
      "outputs": [
        {
          "output_type": "stream",
          "text": [
            "Found 256 images belonging to 2 classes.\n"
          ],
          "name": "stdout"
        }
      ]
    },
    {
      "cell_type": "code",
      "metadata": {
        "colab": {
          "base_uri": "https://localhost:8080/"
        },
        "id": "VyD9SqaqcVF5",
        "outputId": "99b7a5fa-1802-4ec7-bde4-93c3e41bd69d"
      },
      "source": [
        "history = model.fit_generator(\n",
        "  train_generator,\n",
        "  epochs=15,\n",
        "  validation_data=validation_generator\n",
        ")"
      ],
      "execution_count": null,
      "outputs": [
        {
          "output_type": "stream",
          "text": [
            "/usr/local/lib/python3.6/dist-packages/tensorflow/python/keras/engine/training.py:1844: UserWarning: `Model.fit_generator` is deprecated and will be removed in a future version. Please use `Model.fit`, which supports generators.\n",
            "  warnings.warn('`Model.fit_generator` is deprecated and '\n"
          ],
          "name": "stderr"
        },
        {
          "output_type": "stream",
          "text": [
            "Epoch 1/15\n",
            "33/33 [==============================] - 92s 3s/step - loss: 5.1400e-06 - accuracy: 1.0000 - val_loss: 4.1712 - val_accuracy: 0.8359\n",
            "Epoch 2/15\n",
            "33/33 [==============================] - 90s 3s/step - loss: 6.3444e-07 - accuracy: 1.0000 - val_loss: 4.6572 - val_accuracy: 0.8438\n",
            "Epoch 3/15\n",
            "33/33 [==============================] - 91s 3s/step - loss: 1.1141e-07 - accuracy: 1.0000 - val_loss: 4.8365 - val_accuracy: 0.8438\n",
            "Epoch 4/15\n",
            "33/33 [==============================] - 91s 3s/step - loss: 9.3985e-08 - accuracy: 1.0000 - val_loss: 5.8873 - val_accuracy: 0.8438\n",
            "Epoch 5/15\n",
            "33/33 [==============================] - 91s 3s/step - loss: 1.5001e-09 - accuracy: 1.0000 - val_loss: 6.0236 - val_accuracy: 0.8438\n",
            "Epoch 6/15\n",
            "33/33 [==============================] - 90s 3s/step - loss: 7.8797e-10 - accuracy: 1.0000 - val_loss: 6.1718 - val_accuracy: 0.8477\n",
            "Epoch 7/15\n",
            "33/33 [==============================] - 90s 3s/step - loss: 6.0221e-10 - accuracy: 1.0000 - val_loss: 6.5843 - val_accuracy: 0.8359\n",
            "Epoch 8/15\n",
            "33/33 [==============================] - 91s 3s/step - loss: 2.8703e-10 - accuracy: 1.0000 - val_loss: 6.7706 - val_accuracy: 0.8398\n",
            "Epoch 9/15\n",
            "33/33 [==============================] - 90s 3s/step - loss: 3.1999e-10 - accuracy: 1.0000 - val_loss: 6.3016 - val_accuracy: 0.8516\n",
            "Epoch 10/15\n",
            "33/33 [==============================] - 90s 3s/step - loss: 2.1596e-10 - accuracy: 1.0000 - val_loss: 6.5670 - val_accuracy: 0.8438\n",
            "Epoch 11/15\n",
            "33/33 [==============================] - 91s 3s/step - loss: 1.1885e-10 - accuracy: 1.0000 - val_loss: 6.5406 - val_accuracy: 0.8477\n",
            "Epoch 12/15\n",
            "33/33 [==============================] - 92s 3s/step - loss: 1.3657e-10 - accuracy: 1.0000 - val_loss: 6.5218 - val_accuracy: 0.8477\n",
            "Epoch 13/15\n",
            "33/33 [==============================] - 91s 3s/step - loss: 1.9371e-10 - accuracy: 1.0000 - val_loss: 6.6017 - val_accuracy: 0.8398\n",
            "Epoch 14/15\n",
            " 4/33 [==>...........................] - ETA: 1:16 - loss: 6.0196e-11 - accuracy: 1.0000"
          ],
          "name": "stdout"
        }
      ]
    }
  ]
}
