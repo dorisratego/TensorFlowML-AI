{
  "nbformat": 4,
  "nbformat_minor": 0,
  "metadata": {
    "colab": {
      "name": "TokenizationNLP.ipynb",
      "provenance": [],
      "authorship_tag": "ABX9TyN3AS6itF7On/CAlO6vzLZ9",
      "include_colab_link": true
    },
    "kernelspec": {
      "name": "python3",
      "display_name": "Python 3"
    },
    "language_info": {
      "name": "python"
    }
  },
  "cells": [
    {
      "cell_type": "markdown",
      "metadata": {
        "id": "view-in-github",
        "colab_type": "text"
      },
      "source": [
        "<a href=\"https://colab.research.google.com/github/dorisratego/TensorFlowML-AI/blob/main/TokenizationNLP.ipynb\" target=\"_parent\"><img src=\"https://colab.research.google.com/assets/colab-badge.svg\" alt=\"Open In Colab\"/></a>"
      ]
    },
    {
      "cell_type": "code",
      "metadata": {
        "colab": {
          "base_uri": "https://localhost:8080/"
        },
        "id": "ffO6W-Q3M1S5",
        "outputId": "50e79d02-6b9c-479d-9009-f19e2cfc38e4"
      },
      "source": [
        "import tensorflow as tf\n",
        "from tensorflow import keras\n",
        "from tensorflow.keras.preprocessing.text import Tokenizer\n",
        "from tensorflow.keras.preprocessing.sequence import pad_sequences #pad_sequences API to make sequence have same length\n",
        "\n",
        "sentences = [\n",
        "    'Today is a sunny day',\n",
        "    'Today is a rainy day',\n",
        "    'Is it sunny today?'\n",
        "    'I really enjoyed walking in the snow today'\n",
        "]\n",
        "\n",
        "tokenizer = Tokenizer(num_words = 100, oov_token=\"<OOV>\")#out-of-vocabulary (OOV) token\n",
        "tokenizer.fit_on_texts(sentences) #fit_on_texts  will create the tokenized word index.\n",
        "word_index = tokenizer.word_index\n",
        "\n",
        "sequences = tokenizer.texts_to_sequences(sentences)\n",
        "padded = pad_sequences(sequences, padding='post',maxlen=6,truncating='post')#convert your (unpadded) sequences into a padded set\n",
        "\n",
        "print(padded)\n",
        "\n",
        "print(word_index)\n",
        "print(sequences)\n",
        "\n"
      ],
      "execution_count": 11,
      "outputs": [
        {
          "output_type": "stream",
          "name": "stdout",
          "text": [
            "[[ 2  3  4  5  6  0]\n",
            " [ 2  3  4  7  6  0]\n",
            " [11 12 13 14 15  2]]\n",
            "{'<OOV>': 1, 'today': 2, 'is': 3, 'a': 4, 'sunny': 5, 'day': 6, 'rainy': 7, 'it': 8, 'i': 9, 'really': 10, 'enjoyed': 11, 'walking': 12, 'in': 13, 'the': 14, 'snow': 15}\n",
            "[[2, 3, 4, 5, 6], [2, 3, 4, 7, 6], [3, 8, 5, 2, 9, 10, 11, 12, 13, 14, 15, 2]]\n"
          ]
        }
      ]
    },
    {
      "cell_type": "code",
      "metadata": {
        "id": "URa41MftQIXT"
      },
      "source": [
        "test_data = [\n",
        "    'Today is a snowy day',\n",
        "    'Will it be rainy tomorrow?'\n",
        "]"
      ],
      "execution_count": 12,
      "outputs": []
    },
    {
      "cell_type": "code",
      "metadata": {
        "colab": {
          "base_uri": "https://localhost:8080/"
        },
        "id": "o-bLo7E8QNLI",
        "outputId": "423e7df0-0840-4c28-b886-d7978b44b1f5"
      },
      "source": [
        "test_sequences = tokenizer.texts_to_sequences(test_data)\n",
        "print(word_index)\n",
        "print(test_sequences)"
      ],
      "execution_count": 13,
      "outputs": [
        {
          "output_type": "stream",
          "name": "stdout",
          "text": [
            "{'<OOV>': 1, 'today': 2, 'is': 3, 'a': 4, 'sunny': 5, 'day': 6, 'rainy': 7, 'it': 8, 'i': 9, 'really': 10, 'enjoyed': 11, 'walking': 12, 'in': 13, 'the': 14, 'snow': 15}\n",
            "[[2, 3, 4, 1, 6], [1, 8, 1, 7, 1]]\n"
          ]
        }
      ]
    }
  ]
}