{
  "nbformat": 4,
  "nbformat_minor": 0,
  "metadata": {
    "colab": {
      "name": "computerVisionCnn.ipynb",
      "provenance": [],
      "authorship_tag": "ABX9TyMTyeKn+m4OBwzXtclCw3aI",
      "include_colab_link": true
    },
    "kernelspec": {
      "name": "python3",
      "display_name": "Python 3"
    }
  },
  "cells": [
    {
      "cell_type": "markdown",
      "metadata": {
        "id": "view-in-github",
        "colab_type": "text"
      },
      "source": [
        "<a href=\"https://colab.research.google.com/github/dorisratego/TensorFlowML-AI/blob/main/computerVisionCnn.ipynb\" target=\"_parent\"><img src=\"https://colab.research.google.com/assets/colab-badge.svg\" alt=\"Open In Colab\"/></a>"
      ]
    },
    {
      "cell_type": "code",
      "metadata": {
        "id": "8BwdhM7YFWSO"
      },
      "source": [
        "import tensorflow as tf"
      ],
      "execution_count": 1,
      "outputs": []
    },
    {
      "cell_type": "code",
      "metadata": {
        "id": "HwtWAvVmFg3G"
      },
      "source": [
        "data = tf.keras.datasets.fashion_mnist"
      ],
      "execution_count": 2,
      "outputs": []
    },
    {
      "cell_type": "code",
      "metadata": {
        "colab": {
          "base_uri": "https://localhost:8080/"
        },
        "id": "_z6cQ92lFk3N",
        "outputId": "14714411-91e5-4fab-b146-f0cd92a96b98"
      },
      "source": [
        "(training_images, training_labels), (test_images, test_labels) = data.load_data()"
      ],
      "execution_count": 4,
      "outputs": [
        {
          "output_type": "stream",
          "text": [
            "Downloading data from https://storage.googleapis.com/tensorflow/tf-keras-datasets/train-labels-idx1-ubyte.gz\n",
            "32768/29515 [=================================] - 0s 0us/step\n",
            "Downloading data from https://storage.googleapis.com/tensorflow/tf-keras-datasets/train-images-idx3-ubyte.gz\n",
            "26427392/26421880 [==============================] - 0s 0us/step\n",
            "Downloading data from https://storage.googleapis.com/tensorflow/tf-keras-datasets/t10k-labels-idx1-ubyte.gz\n",
            "8192/5148 [===============================================] - 0s 0us/step\n",
            "Downloading data from https://storage.googleapis.com/tensorflow/tf-keras-datasets/t10k-images-idx3-ubyte.gz\n",
            "4423680/4422102 [==============================] - 0s 0us/step\n"
          ],
          "name": "stdout"
        }
      ]
    },
    {
      "cell_type": "code",
      "metadata": {
        "id": "qTF0w5aWF4xe"
      },
      "source": [
        "training_images = training_images.reshape(60000, 28, 28, 1)"
      ],
      "execution_count": 5,
      "outputs": []
    },
    {
      "cell_type": "code",
      "metadata": {
        "id": "7Kzk_zmjF_d7"
      },
      "source": [
        "training_images = training_images / 255.0"
      ],
      "execution_count": 6,
      "outputs": []
    },
    {
      "cell_type": "code",
      "metadata": {
        "id": "sLmqtRW0GHfF"
      },
      "source": [
        "test_images = test_images.reshape(10000, 28, 28, 1)"
      ],
      "execution_count": 7,
      "outputs": []
    },
    {
      "cell_type": "code",
      "metadata": {
        "id": "edNmGhJHGMdK"
      },
      "source": [
        "test_images = test_images / 255.0"
      ],
      "execution_count": 8,
      "outputs": []
    },
    {
      "cell_type": "code",
      "metadata": {
        "id": "ruAJmHj2GZRL"
      },
      "source": [
        "model = tf.keras.models.Sequential([\n",
        "                                    tf.keras.layers.Conv2D(64, (3, 3), activation='relu',\n",
        "                                                           input_shape=(28, 28, 1)),\n",
        "                                          tf.keras.layers.MaxPooling2D(2, 2),\n",
        "                                          tf.keras.layers.Conv2D(64, (3, 3), activation='relu'),\n",
        "                                          tf.keras.layers.MaxPooling2D(2,2),\n",
        "                                          tf.keras.layers.Flatten(),\n",
        "                                          tf.keras.layers.Dense(128, activation=tf.nn.relu),\n",
        "                                          tf.keras.layers.Dense(10, activation=tf.nn.softmax)\n",
        "                                              ])"
      ],
      "execution_count": 10,
      "outputs": []
    },
    {
      "cell_type": "code",
      "metadata": {
        "id": "MDHkp-UKG4ui"
      },
      "source": [
        "model.compile(optimizer='adam',\n",
        "              loss='sparse_categorical_crossentropy',\n",
        "              metrics=['accuracy'])"
      ],
      "execution_count": 11,
      "outputs": []
    },
    {
      "cell_type": "code",
      "metadata": {
        "colab": {
          "base_uri": "https://localhost:8080/"
        },
        "id": "YbKMtW9-HO8g",
        "outputId": "8221bb20-a4c8-4c92-e504-c36397f3eb28"
      },
      "source": [
        "model.fit(training_images, training_labels, epochs=50)"
      ],
      "execution_count": 12,
      "outputs": [
        {
          "output_type": "stream",
          "text": [
            "Epoch 1/50\n",
            "1875/1875 [==============================] - 82s 44ms/step - loss: 0.6019 - accuracy: 0.7812\n",
            "Epoch 2/50\n",
            "1875/1875 [==============================] - 84s 45ms/step - loss: 0.2981 - accuracy: 0.8921\n",
            "Epoch 3/50\n",
            "1875/1875 [==============================] - 84s 45ms/step - loss: 0.2470 - accuracy: 0.9081\n",
            "Epoch 4/50\n",
            "1875/1875 [==============================] - 81s 43ms/step - loss: 0.2129 - accuracy: 0.9199\n",
            "Epoch 5/50\n",
            "1875/1875 [==============================] - 79s 42ms/step - loss: 0.1845 - accuracy: 0.9294\n",
            "Epoch 6/50\n",
            "1875/1875 [==============================] - 85s 45ms/step - loss: 0.1585 - accuracy: 0.9409\n",
            "Epoch 7/50\n",
            "1875/1875 [==============================] - 79s 42ms/step - loss: 0.1366 - accuracy: 0.9496\n",
            "Epoch 8/50\n",
            "1875/1875 [==============================] - 79s 42ms/step - loss: 0.1191 - accuracy: 0.9570\n",
            "Epoch 9/50\n",
            "1875/1875 [==============================] - 80s 43ms/step - loss: 0.1022 - accuracy: 0.9606\n",
            "Epoch 10/50\n",
            "1875/1875 [==============================] - 79s 42ms/step - loss: 0.0939 - accuracy: 0.9645\n",
            "Epoch 11/50\n",
            "1875/1875 [==============================] - 79s 42ms/step - loss: 0.0814 - accuracy: 0.9689\n",
            "Epoch 12/50\n",
            "1875/1875 [==============================] - 79s 42ms/step - loss: 0.0693 - accuracy: 0.9732\n",
            "Epoch 13/50\n",
            "1875/1875 [==============================] - 80s 43ms/step - loss: 0.0628 - accuracy: 0.9763\n",
            "Epoch 14/50\n",
            "1875/1875 [==============================] - 79s 42ms/step - loss: 0.0570 - accuracy: 0.9791\n",
            "Epoch 15/50\n",
            "1875/1875 [==============================] - 80s 43ms/step - loss: 0.0501 - accuracy: 0.9817\n",
            "Epoch 16/50\n",
            "1875/1875 [==============================] - 79s 42ms/step - loss: 0.0480 - accuracy: 0.9820\n",
            "Epoch 17/50\n",
            "1875/1875 [==============================] - 80s 43ms/step - loss: 0.0397 - accuracy: 0.9854\n",
            "Epoch 18/50\n",
            "1875/1875 [==============================] - 79s 42ms/step - loss: 0.0354 - accuracy: 0.9867\n",
            "Epoch 19/50\n",
            "1875/1875 [==============================] - 81s 43ms/step - loss: 0.0340 - accuracy: 0.9874\n",
            "Epoch 20/50\n",
            "1875/1875 [==============================] - 81s 43ms/step - loss: 0.0308 - accuracy: 0.9894\n",
            "Epoch 21/50\n",
            "1875/1875 [==============================] - 81s 43ms/step - loss: 0.0290 - accuracy: 0.9897\n",
            "Epoch 22/50\n",
            "1875/1875 [==============================] - 79s 42ms/step - loss: 0.0279 - accuracy: 0.9901\n",
            "Epoch 23/50\n",
            "1875/1875 [==============================] - 78s 42ms/step - loss: 0.0237 - accuracy: 0.9922\n",
            "Epoch 24/50\n",
            "1875/1875 [==============================] - 79s 42ms/step - loss: 0.0264 - accuracy: 0.9907\n",
            "Epoch 25/50\n",
            "1875/1875 [==============================] - 79s 42ms/step - loss: 0.0260 - accuracy: 0.9909\n",
            "Epoch 26/50\n",
            "1875/1875 [==============================] - 78s 42ms/step - loss: 0.0248 - accuracy: 0.9906\n",
            "Epoch 27/50\n",
            "1875/1875 [==============================] - 78s 41ms/step - loss: 0.0213 - accuracy: 0.9923\n",
            "Epoch 28/50\n",
            "1875/1875 [==============================] - 78s 42ms/step - loss: 0.0210 - accuracy: 0.9928\n",
            "Epoch 29/50\n",
            "1875/1875 [==============================] - 79s 42ms/step - loss: 0.0190 - accuracy: 0.9931\n",
            "Epoch 30/50\n",
            "1875/1875 [==============================] - 79s 42ms/step - loss: 0.0255 - accuracy: 0.9913\n",
            "Epoch 31/50\n",
            "1875/1875 [==============================] - 78s 41ms/step - loss: 0.0229 - accuracy: 0.9920\n",
            "Epoch 32/50\n",
            "1875/1875 [==============================] - 78s 42ms/step - loss: 0.0164 - accuracy: 0.9938\n",
            "Epoch 33/50\n",
            "1875/1875 [==============================] - 83s 44ms/step - loss: 0.0182 - accuracy: 0.9935\n",
            "Epoch 34/50\n",
            "1875/1875 [==============================] - 82s 44ms/step - loss: 0.0162 - accuracy: 0.9943\n",
            "Epoch 35/50\n",
            "1875/1875 [==============================] - 84s 45ms/step - loss: 0.0199 - accuracy: 0.9934\n",
            "Epoch 36/50\n",
            "1875/1875 [==============================] - 80s 43ms/step - loss: 0.0186 - accuracy: 0.9939\n",
            "Epoch 37/50\n",
            "1875/1875 [==============================] - 81s 43ms/step - loss: 0.0208 - accuracy: 0.9929\n",
            "Epoch 38/50\n",
            "1875/1875 [==============================] - 84s 45ms/step - loss: 0.0171 - accuracy: 0.9940\n",
            "Epoch 39/50\n",
            "1875/1875 [==============================] - 86s 46ms/step - loss: 0.0154 - accuracy: 0.9950\n",
            "Epoch 40/50\n",
            "1875/1875 [==============================] - 81s 43ms/step - loss: 0.0139 - accuracy: 0.9951\n",
            "Epoch 41/50\n",
            "1875/1875 [==============================] - 79s 42ms/step - loss: 0.0153 - accuracy: 0.9949\n",
            "Epoch 42/50\n",
            "1875/1875 [==============================] - 79s 42ms/step - loss: 0.0129 - accuracy: 0.9957\n",
            "Epoch 43/50\n",
            "1875/1875 [==============================] - 79s 42ms/step - loss: 0.0200 - accuracy: 0.9938\n",
            "Epoch 44/50\n",
            "1875/1875 [==============================] - 79s 42ms/step - loss: 0.0241 - accuracy: 0.9923\n",
            "Epoch 45/50\n",
            "1875/1875 [==============================] - 82s 44ms/step - loss: 0.0147 - accuracy: 0.9950\n",
            "Epoch 46/50\n",
            "1875/1875 [==============================] - 81s 43ms/step - loss: 0.0166 - accuracy: 0.9947\n",
            "Epoch 47/50\n",
            "1875/1875 [==============================] - 80s 43ms/step - loss: 0.0147 - accuracy: 0.9948\n",
            "Epoch 48/50\n",
            "1875/1875 [==============================] - 83s 44ms/step - loss: 0.0155 - accuracy: 0.9947\n",
            "Epoch 49/50\n",
            "1875/1875 [==============================] - 82s 44ms/step - loss: 0.0193 - accuracy: 0.9940\n",
            "Epoch 50/50\n",
            "1875/1875 [==============================] - 82s 44ms/step - loss: 0.0144 - accuracy: 0.9953\n"
          ],
          "name": "stdout"
        },
        {
          "output_type": "execute_result",
          "data": {
            "text/plain": [
              "<tensorflow.python.keras.callbacks.History at 0x7f481be38550>"
            ]
          },
          "metadata": {
            "tags": []
          },
          "execution_count": 12
        }
      ]
    },
    {
      "cell_type": "code",
      "metadata": {
        "colab": {
          "base_uri": "https://localhost:8080/"
        },
        "id": "3HTR5Dx6HWTX",
        "outputId": "2d31d070-323f-4087-dbb6-55773c6ecef0"
      },
      "source": [
        "model.evaluate(test_images, test_labels)"
      ],
      "execution_count": 13,
      "outputs": [
        {
          "output_type": "stream",
          "text": [
            "313/313 [==============================] - 4s 12ms/step - loss: 0.9568 - accuracy: 0.9129\n"
          ],
          "name": "stdout"
        },
        {
          "output_type": "execute_result",
          "data": {
            "text/plain": [
              "[0.9568144679069519, 0.9128999710083008]"
            ]
          },
          "metadata": {
            "tags": []
          },
          "execution_count": 13
        }
      ]
    },
    {
      "cell_type": "code",
      "metadata": {
        "id": "Kh0S-dA5Hd4_"
      },
      "source": [
        "classifications = model.predict(test_images)"
      ],
      "execution_count": 14,
      "outputs": []
    },
    {
      "cell_type": "code",
      "metadata": {
        "colab": {
          "base_uri": "https://localhost:8080/"
        },
        "id": "y51pLSsyHiLv",
        "outputId": "0fb3d8f5-24d1-4a03-b3aa-47bdc980f020"
      },
      "source": [
        "print(classifications[0])"
      ],
      "execution_count": 15,
      "outputs": [
        {
          "output_type": "stream",
          "text": [
            "[7.1262709e-36 5.3224120e-34 2.0881715e-25 1.5888154e-25 0.0000000e+00\n",
            " 5.8154179e-24 5.4802833e-30 1.5642884e-20 1.7138846e-20 1.0000000e+00]\n"
          ],
          "name": "stdout"
        }
      ]
    },
    {
      "cell_type": "code",
      "metadata": {
        "colab": {
          "base_uri": "https://localhost:8080/"
        },
        "id": "kl3e_iEmHmGZ",
        "outputId": "1f5ff93b-34f5-4bee-9fd7-b7de352abb0c"
      },
      "source": [
        "print(test_labels[0])"
      ],
      "execution_count": 16,
      "outputs": [
        {
          "output_type": "stream",
          "text": [
            "9\n"
          ],
          "name": "stdout"
        }
      ]
    }
  ]
}